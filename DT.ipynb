{
 "cells": [
  {
   "cell_type": "code",
   "execution_count": 1,
   "metadata": {},
   "outputs": [
    {
     "data": {
      "text/plain": [
       "['.ipynb_checkpoints', 'DT.ipynb', 'play.txt', 'play.xlsx']"
      ]
     },
     "execution_count": 1,
     "metadata": {},
     "output_type": "execute_result"
    }
   ],
   "source": [
    "import pandas as pd\n",
    "import os\n",
    "import numpy as np\n",
    "import seaborn as sns\n",
    "import re\n",
    "\n",
    "\n",
    "os.chdir(\"C:/Users/user/DT구현\")\n",
    "os.listdir()"
   ]
  },
  {
   "cell_type": "code",
   "execution_count": 2,
   "metadata": {},
   "outputs": [
    {
     "data": {
      "text/html": [
       "<div>\n",
       "<style scoped>\n",
       "    .dataframe tbody tr th:only-of-type {\n",
       "        vertical-align: middle;\n",
       "    }\n",
       "\n",
       "    .dataframe tbody tr th {\n",
       "        vertical-align: top;\n",
       "    }\n",
       "\n",
       "    .dataframe thead th {\n",
       "        text-align: right;\n",
       "    }\n",
       "</style>\n",
       "<table border=\"1\" class=\"dataframe\">\n",
       "  <thead>\n",
       "    <tr style=\"text-align: right;\">\n",
       "      <th></th>\n",
       "      <th>id</th>\n",
       "      <th>Outlook</th>\n",
       "      <th>Temp</th>\n",
       "      <th>Humidity</th>\n",
       "      <th>Windy</th>\n",
       "      <th>Play</th>\n",
       "    </tr>\n",
       "  </thead>\n",
       "  <tbody>\n",
       "    <tr>\n",
       "      <th>0</th>\n",
       "      <td>a</td>\n",
       "      <td>sunny</td>\n",
       "      <td>hot</td>\n",
       "      <td>high</td>\n",
       "      <td>False</td>\n",
       "      <td>no</td>\n",
       "    </tr>\n",
       "    <tr>\n",
       "      <th>1</th>\n",
       "      <td>b</td>\n",
       "      <td>sunny</td>\n",
       "      <td>hot</td>\n",
       "      <td>high</td>\n",
       "      <td>True</td>\n",
       "      <td>no</td>\n",
       "    </tr>\n",
       "    <tr>\n",
       "      <th>2</th>\n",
       "      <td>c</td>\n",
       "      <td>overcast</td>\n",
       "      <td>hot</td>\n",
       "      <td>high</td>\n",
       "      <td>False</td>\n",
       "      <td>yes</td>\n",
       "    </tr>\n",
       "    <tr>\n",
       "      <th>3</th>\n",
       "      <td>d</td>\n",
       "      <td>rainy</td>\n",
       "      <td>mild</td>\n",
       "      <td>high</td>\n",
       "      <td>False</td>\n",
       "      <td>yes</td>\n",
       "    </tr>\n",
       "    <tr>\n",
       "      <th>4</th>\n",
       "      <td>e</td>\n",
       "      <td>rainy</td>\n",
       "      <td>cool</td>\n",
       "      <td>normal</td>\n",
       "      <td>False</td>\n",
       "      <td>yes</td>\n",
       "    </tr>\n",
       "    <tr>\n",
       "      <th>5</th>\n",
       "      <td>f</td>\n",
       "      <td>rainy</td>\n",
       "      <td>cool</td>\n",
       "      <td>normal</td>\n",
       "      <td>True</td>\n",
       "      <td>no</td>\n",
       "    </tr>\n",
       "    <tr>\n",
       "      <th>6</th>\n",
       "      <td>g</td>\n",
       "      <td>overcast</td>\n",
       "      <td>cool</td>\n",
       "      <td>normal</td>\n",
       "      <td>True</td>\n",
       "      <td>yes</td>\n",
       "    </tr>\n",
       "    <tr>\n",
       "      <th>7</th>\n",
       "      <td>h</td>\n",
       "      <td>sunny</td>\n",
       "      <td>mild</td>\n",
       "      <td>high</td>\n",
       "      <td>False</td>\n",
       "      <td>no</td>\n",
       "    </tr>\n",
       "    <tr>\n",
       "      <th>8</th>\n",
       "      <td>i</td>\n",
       "      <td>sunny</td>\n",
       "      <td>cool</td>\n",
       "      <td>normal</td>\n",
       "      <td>False</td>\n",
       "      <td>yes</td>\n",
       "    </tr>\n",
       "    <tr>\n",
       "      <th>9</th>\n",
       "      <td>j</td>\n",
       "      <td>rainy</td>\n",
       "      <td>mild</td>\n",
       "      <td>normal</td>\n",
       "      <td>False</td>\n",
       "      <td>yes</td>\n",
       "    </tr>\n",
       "    <tr>\n",
       "      <th>10</th>\n",
       "      <td>k</td>\n",
       "      <td>sunny</td>\n",
       "      <td>mild</td>\n",
       "      <td>normal</td>\n",
       "      <td>True</td>\n",
       "      <td>yes</td>\n",
       "    </tr>\n",
       "    <tr>\n",
       "      <th>11</th>\n",
       "      <td>l</td>\n",
       "      <td>overcast</td>\n",
       "      <td>mild</td>\n",
       "      <td>high</td>\n",
       "      <td>True</td>\n",
       "      <td>yes</td>\n",
       "    </tr>\n",
       "    <tr>\n",
       "      <th>12</th>\n",
       "      <td>m</td>\n",
       "      <td>overcast</td>\n",
       "      <td>hot</td>\n",
       "      <td>normal</td>\n",
       "      <td>False</td>\n",
       "      <td>yes</td>\n",
       "    </tr>\n",
       "    <tr>\n",
       "      <th>13</th>\n",
       "      <td>n</td>\n",
       "      <td>rainy</td>\n",
       "      <td>mild</td>\n",
       "      <td>high</td>\n",
       "      <td>True</td>\n",
       "      <td>no</td>\n",
       "    </tr>\n",
       "  </tbody>\n",
       "</table>\n",
       "</div>"
      ],
      "text/plain": [
       "   id   Outlook  Temp Humidity  Windy Play\n",
       "0   a     sunny   hot     high  False   no\n",
       "1   b     sunny   hot     high   True   no\n",
       "2   c  overcast   hot     high  False  yes\n",
       "3   d     rainy  mild     high  False  yes\n",
       "4   e     rainy  cool   normal  False  yes\n",
       "5   f     rainy  cool   normal   True   no\n",
       "6   g  overcast  cool   normal   True  yes\n",
       "7   h     sunny  mild     high  False   no\n",
       "8   i     sunny  cool   normal  False  yes\n",
       "9   j     rainy  mild   normal  False  yes\n",
       "10  k     sunny  mild   normal   True  yes\n",
       "11  l  overcast  mild     high   True  yes\n",
       "12  m  overcast   hot   normal  False  yes\n",
       "13  n     rainy  mild     high   True   no"
      ]
     },
     "execution_count": 2,
     "metadata": {},
     "output_type": "execute_result"
    }
   ],
   "source": [
    "data = pd.read_excel(\"play.xlsx\")\n",
    "data"
   ]
  },
  {
   "cell_type": "markdown",
   "metadata": {},
   "source": [
    "### One R"
   ]
  },
  {
   "cell_type": "code",
   "execution_count": 3,
   "metadata": {},
   "outputs": [],
   "source": [
    "yes = data[(data['Outlook'] == \"sunny\") & (data['Play'] == \"yes\")].shape[0]\n",
    "no = data[(data[\"Outlook\"] == \"sunny\") & (data[\"Play\"] == \"no\")].shape[0]\n",
    "#len(data[(data['Outlook'] == \"sunny\") & (data['Play'] == \"yes\")])"
   ]
  },
  {
   "cell_type": "code",
   "execution_count": 4,
   "metadata": {},
   "outputs": [],
   "source": [
    "def get_label_n(x_value,label,y_value,label_y):\n",
    "    res = data[(data[x_value] == label) & (data[y_value] == label_y)].shape[0]\n",
    "    return res\n",
    "    "
   ]
  },
  {
   "cell_type": "code",
   "execution_count": 5,
   "metadata": {},
   "outputs": [],
   "source": [
    "out_look_sunny_yes = get_label_n(\"Outlook\",\"sunny\",\"Play\",\"yes\")\n",
    "out_look_sunny_no = get_label_n(\"Outlook\",\"sunny\",\"Play\",\"no\")\n",
    "out_look_overcast_yes = get_label_n(\"Outlook\",\"overcast\",\"Play\",\"yes\")\n",
    "out_look_overcast_no = get_label_n(\"Outlook\",\"overcast\",\"Play\",\"no\")\n",
    "out_look_rainy_yes = get_label_n(\"Outlook\",\"rainy\",\"Play\",\"yes\")\n",
    "out_look_rainy_no = get_label_n(\"Outlook\",\"rainy\",\"Play\",\"no\")"
   ]
  },
  {
   "cell_type": "code",
   "execution_count": 6,
   "metadata": {},
   "outputs": [],
   "source": [
    "temp_hot_yes = get_label_n(\"Temp\", \"hot\", \"Play\", \"yes\")\n",
    "temp_hot_no = get_label_n(\"Temp\", \"hot\", \"Play\", \"no\")\n",
    "temp_mild_yes = get_label_n(\"Temp\", \"mild\", \"Play\", \"yes\")\n",
    "temp_mild_no = get_label_n(\"Temp\", \"mild\", \"Play\", \"no\")\n",
    "temp_cool_yes = get_label_n(\"Temp\", \"cool\", \"Play\", \"yes\")\n",
    "temp_cool_no = get_label_n(\"Temp\", \"cool\", \"Play\", \"no\")"
   ]
  },
  {
   "cell_type": "code",
   "execution_count": 7,
   "metadata": {},
   "outputs": [
    {
     "data": {
      "text/plain": [
       "2"
      ]
     },
     "execution_count": 7,
     "metadata": {},
     "output_type": "execute_result"
    }
   ],
   "source": [
    "out_look_rainy_no"
   ]
  },
  {
   "cell_type": "code",
   "execution_count": 8,
   "metadata": {},
   "outputs": [
    {
     "data": {
      "text/plain": [
       "0.4"
      ]
     },
     "execution_count": 8,
     "metadata": {},
     "output_type": "execute_result"
    }
   ],
   "source": [
    "if out_look_sunny_yes >= out_look_sunny_no:\n",
    "    res = \"yes\"\n",
    "else:\n",
    "    res = \"no\"\n",
    "    \n",
    "\n",
    "if res == \"yes\":\n",
    "    error_rate = out_look_sunny_no / (out_look_sunny_yes + out_look_sunny_no)\n",
    "else:\n",
    "    error_rate = out_look_sunny_yes / (out_look_sunny_yes + out_look_sunny_no)\n",
    "    \n",
    "error_rate"
   ]
  },
  {
   "cell_type": "code",
   "execution_count": 9,
   "metadata": {},
   "outputs": [],
   "source": [
    "def get_error_rate(A,B):\n",
    "    if A >= B:\n",
    "        error= B \n",
    "    else:\n",
    "        error = A\n",
    "\n",
    "    return(error/ len(data))"
   ]
  },
  {
   "cell_type": "code",
   "execution_count": 10,
   "metadata": {},
   "outputs": [],
   "source": [
    "temp_hot_yes = get_label_n(\"Temp\", \"hot\", \"Play\", \"yes\")\n",
    "temp_hot_no = get_label_n(\"Temp\", \"hot\", \"Play\", \"no\")\n",
    "temp_mild_yes = get_label_n(\"Temp\", \"mild\", \"Play\", \"yes\")\n",
    "temp_mild_no = get_label_n(\"Temp\", \"mild\", \"Play\", \"no\")\n",
    "temp_cool_yes = get_label_n(\"Temp\", \"cool\", \"Play\", \"yes\")\n",
    "temp_cool_no = get_label_n(\"Temp\", \"cool\", \"Play\", \"no\")"
   ]
  },
  {
   "cell_type": "code",
   "execution_count": 11,
   "metadata": {},
   "outputs": [
    {
     "data": {
      "text/plain": [
       "0.2857142857142857"
      ]
     },
     "execution_count": 11,
     "metadata": {},
     "output_type": "execute_result"
    }
   ],
   "source": [
    "out_look_error_rate = \\\n",
    "get_error_rate(out_look_sunny_yes,out_look_sunny_no) + \\\n",
    "get_error_rate(out_look_overcast_yes,out_look_overcast_no) + \\\n",
    "get_error_rate(out_look_rainy_yes,out_look_rainy_no)\n",
    "\n",
    "out_look_error_rate"
   ]
  },
  {
   "cell_type": "code",
   "execution_count": 12,
   "metadata": {},
   "outputs": [
    {
     "data": {
      "text/plain": [
       "0.3571428571428571"
      ]
     },
     "execution_count": 12,
     "metadata": {},
     "output_type": "execute_result"
    }
   ],
   "source": [
    "temp_error_rate = \\\n",
    "get_error_rate(temp_hot_yes,temp_hot_no) + \\\n",
    "get_error_rate(temp_mild_yes,temp_mild_no) + \\\n",
    "get_error_rate(temp_cool_yes,temp_cool_no)\n",
    "\n",
    "temp_error_rate"
   ]
  },
  {
   "cell_type": "code",
   "execution_count": 13,
   "metadata": {},
   "outputs": [
    {
     "data": {
      "text/plain": [
       "Index(['Outlook', 'Temp', 'Humidity', 'Windy'], dtype='object')"
      ]
     },
     "execution_count": 13,
     "metadata": {},
     "output_type": "execute_result"
    }
   ],
   "source": [
    "val_list = data.columns[1:5]\n",
    "val_list"
   ]
  },
  {
   "cell_type": "code",
   "execution_count": 14,
   "metadata": {},
   "outputs": [],
   "source": [
    "i = 0\n",
    "\n",
    "val = val_list[i]\n",
    "val_category_list = data[val].unique()\n",
    "\n",
    "error_rate_list = []\n",
    "error_rate = 0\n",
    "for j in val_category_list:\n",
    "    yes = get_label_n(val, j, \"Play\", \"yes\")\n",
    "    no = get_label_n(val, j, \"Play\", \"no\")\n",
    "\n",
    "    error_rate += get_error_rate(yes, no)\n",
    "error_rate_list.append(error_rate)"
   ]
  },
  {
   "cell_type": "code",
   "execution_count": 15,
   "metadata": {},
   "outputs": [
    {
     "data": {
      "text/plain": [
       "0.2857142857142857"
      ]
     },
     "execution_count": 15,
     "metadata": {},
     "output_type": "execute_result"
    }
   ],
   "source": [
    "error_rate"
   ]
  },
  {
   "cell_type": "code",
   "execution_count": 16,
   "metadata": {},
   "outputs": [
    {
     "data": {
      "text/plain": [
       "[0.2857142857142857,\n",
       " 0.3571428571428571,\n",
       " 0.2857142857142857,\n",
       " 0.3571428571428571]"
      ]
     },
     "execution_count": 16,
     "metadata": {},
     "output_type": "execute_result"
    }
   ],
   "source": [
    "error_rate_list = []\n",
    "for i in val_list:\n",
    "\n",
    "    val_category_list = data[i].unique()\n",
    "\n",
    "    error_rate = 0\n",
    "    for j in val_category_list:\n",
    "        yes = get_label_n(i, j, \"Play\", \"yes\")\n",
    "        no = get_label_n(i, j, \"Play\", \"no\")\n",
    "\n",
    "        error_rate += get_error_rate(yes, no)\n",
    "    error_rate_list.append(error_rate)\n",
    "    \n",
    "error_rate_list"
   ]
  },
  {
   "cell_type": "code",
   "execution_count": 17,
   "metadata": {},
   "outputs": [
    {
     "data": {
      "text/plain": [
       "'Outlook'"
      ]
     },
     "execution_count": 17,
     "metadata": {},
     "output_type": "execute_result"
    }
   ],
   "source": [
    "val_list[np.argmin(error_rate_list)]"
   ]
  },
  {
   "cell_type": "code",
   "execution_count": 18,
   "metadata": {},
   "outputs": [],
   "source": [
    "yes_rate = get_label_n(\"Outlook\", \"sunny\", \"Play\", \"yes\") / (get_label_n(\"Outlook\", \"sunny\", \"Play\", \"yes\") + get_label_n(\"Outlook\", \"sunny\", \"Play\", \"no\"))\n",
    "no_rate = get_label_n(\"Outlook\", \"sunny\", \"Play\", \"no\") / (get_label_n(\"Outlook\", \"sunny\", \"Play\", \"yes\") + get_label_n(\"Outlook\", \"sunny\", \"Play\", \"no\"))\n",
    "\n"
   ]
  },
  {
   "cell_type": "code",
   "execution_count": 19,
   "metadata": {},
   "outputs": [
    {
     "data": {
      "text/plain": [
       "0.9709505944546686"
      ]
     },
     "execution_count": 19,
     "metadata": {},
     "output_type": "execute_result"
    }
   ],
   "source": [
    "if yes_rate == 0:\n",
    "    log2_yes_rate = 0\n",
    "else:\n",
    "    log2_yes_rate = np.log2(yes_rate) \n",
    "    \n",
    "if no_rate == 0:\n",
    "    log2_no_rate = 0\n",
    "else:\n",
    "    log2_no_rate = np.log2(no_rate) \n",
    "\n",
    "out_look_H = yes_rate* log2_yes_rate + no_rate*log2_no_rate\n",
    "-out_look_H"
   ]
  },
  {
   "cell_type": "code",
   "execution_count": null,
   "metadata": {},
   "outputs": [],
   "source": []
  },
  {
   "cell_type": "code",
   "execution_count": 20,
   "metadata": {},
   "outputs": [
    {
     "data": {
      "text/plain": [
       "[0.9709505944546686, 0.8112781244591328, 0.5916727785823275, 1.0]"
      ]
     },
     "execution_count": 20,
     "metadata": {},
     "output_type": "execute_result"
    }
   ],
   "source": [
    "h=[]\n",
    "for i in val_list:\n",
    "    val_category_list = data[i].unique()\n",
    "          \n",
    "    H=0\n",
    "    for j in val_category_list:\n",
    "                \n",
    "        yes_rate = get_label_n(i, j, \"Play\", \"yes\") / (get_label_n(i, j, \"Play\", \"yes\") + get_label_n(i, j, \"Play\", \"no\"))\n",
    "        no_rate = get_label_n(i, j, \"Play\", \"no\") / (get_label_n(i, j, \"Play\", \"yes\") + get_label_n(i, j, \"Play\", \"no\"))\n",
    "        \n",
    "        if yes_rate == 0:\n",
    "            log2_yes_rate = 0\n",
    "        else:\n",
    "            log2_yes_rate = np.log2(yes_rate) \n",
    "\n",
    "        if no_rate == 0:\n",
    "            log2_no_rate = 0\n",
    "        else:\n",
    "            log2_no_rate = np.log2(no_rate)  \n",
    "        \n",
    "        H = yes_rate* log2_yes_rate + no_rate*log2_no_rate\n",
    "    h.append(-H)\n",
    "    \n",
    "h"
   ]
  },
  {
   "cell_type": "code",
   "execution_count": 21,
   "metadata": {},
   "outputs": [
    {
     "data": {
      "text/plain": [
       "'Windy'"
      ]
     },
     "execution_count": 21,
     "metadata": {},
     "output_type": "execute_result"
    }
   ],
   "source": [
    "i"
   ]
  },
  {
   "cell_type": "code",
   "execution_count": 22,
   "metadata": {},
   "outputs": [
    {
     "data": {
      "text/plain": [
       "[0.9709505944546686, -0.0, 0.9709505944546686]"
      ]
     },
     "execution_count": 22,
     "metadata": {},
     "output_type": "execute_result"
    }
   ],
   "source": [
    "i = \"Outlook\"\n",
    "val_category_list = data[i].unique()\n",
    "h = []\n",
    "H=0\n",
    "for j in val_category_list:\n",
    "\n",
    "    yes_rate = get_label_n(i, j, \"Play\", \"yes\") / (get_label_n(i, j, \"Play\", \"yes\") + get_label_n(i, j, \"Play\", \"no\"))\n",
    "    no_rate = get_label_n(i, j, \"Play\", \"no\") / (get_label_n(i, j, \"Play\", \"yes\") + get_label_n(i, j, \"Play\", \"no\"))\n",
    "\n",
    "    if yes_rate == 0:\n",
    "        log2_yes_rate = 0\n",
    "    else:\n",
    "        log2_yes_rate = np.log2(yes_rate) \n",
    "\n",
    "    if no_rate == 0:\n",
    "        log2_no_rate = 0\n",
    "    else:\n",
    "        log2_no_rate = np.log2(no_rate)  \n",
    "\n",
    "    H = yes_rate* log2_yes_rate + no_rate*log2_no_rate\n",
    "    h.append(-H)\n",
    "    \n",
    "h"
   ]
  },
  {
   "cell_type": "code",
   "execution_count": 23,
   "metadata": {},
   "outputs": [],
   "source": [
    "def H(i):\n",
    "    val_category_list = data[i].unique()\n",
    "    h = []\n",
    "    H=0\n",
    "    for j in val_category_list:\n",
    "\n",
    "        yes_rate = get_label_n(i, j, \"Play\", \"yes\") / (get_label_n(i, j, \"Play\", \"yes\") + get_label_n(i, j, \"Play\", \"no\"))\n",
    "        no_rate = get_label_n(i, j, \"Play\", \"no\") / (get_label_n(i, j, \"Play\", \"yes\") + get_label_n(i, j, \"Play\", \"no\"))\n",
    "\n",
    "        if yes_rate == 0:\n",
    "            log2_yes_rate = 0\n",
    "        else:\n",
    "            log2_yes_rate = np.log2(yes_rate) \n",
    "\n",
    "        if no_rate == 0:\n",
    "            log2_no_rate = 0\n",
    "        else:\n",
    "            log2_no_rate = np.log2(no_rate)  \n",
    "\n",
    "        H = yes_rate* log2_yes_rate + no_rate*log2_no_rate\n",
    "        h.append(-H)\n",
    "\n",
    "    return h"
   ]
  },
  {
   "cell_type": "code",
   "execution_count": 24,
   "metadata": {},
   "outputs": [
    {
     "data": {
      "text/plain": [
       "Index(['id', 'Outlook', 'Temp', 'Humidity', 'Windy', 'Play'], dtype='object')"
      ]
     },
     "execution_count": 24,
     "metadata": {},
     "output_type": "execute_result"
    }
   ],
   "source": [
    "data.columns"
   ]
  },
  {
   "cell_type": "code",
   "execution_count": 25,
   "metadata": {},
   "outputs": [
    {
     "data": {
      "text/plain": [
       "[1.0, 0.9182958340544896, 0.8112781244591328]"
      ]
     },
     "execution_count": 25,
     "metadata": {},
     "output_type": "execute_result"
    }
   ],
   "source": [
    "H(\"Temp\")"
   ]
  },
  {
   "cell_type": "code",
   "execution_count": 26,
   "metadata": {},
   "outputs": [
    {
     "data": {
      "text/plain": [
       "[0.9852281360342515, 0.5916727785823275]"
      ]
     },
     "execution_count": 26,
     "metadata": {},
     "output_type": "execute_result"
    }
   ],
   "source": [
    "H(\"Humidity\")"
   ]
  },
  {
   "cell_type": "code",
   "execution_count": 27,
   "metadata": {
    "scrolled": true
   },
   "outputs": [
    {
     "data": {
      "text/plain": [
       "[0.8112781244591328, 1.0]"
      ]
     },
     "execution_count": 27,
     "metadata": {},
     "output_type": "execute_result"
    }
   ],
   "source": [
    "H(\"Windy\")"
   ]
  },
  {
   "cell_type": "code",
   "execution_count": 28,
   "metadata": {},
   "outputs": [
    {
     "data": {
      "text/plain": [
       "array(['sunny', 'overcast', 'rainy'], dtype=object)"
      ]
     },
     "execution_count": 28,
     "metadata": {},
     "output_type": "execute_result"
    }
   ],
   "source": [
    "Outlook_category = data['Outlook'].unique()\n",
    "Outlook_category"
   ]
  },
  {
   "cell_type": "code",
   "execution_count": 29,
   "metadata": {},
   "outputs": [
    {
     "data": {
      "text/plain": [
       "0.35714285714285715"
      ]
     },
     "execution_count": 29,
     "metadata": {},
     "output_type": "execute_result"
    }
   ],
   "source": [
    "sum(data['Outlook'] == Outlook_category[0]) / len(data['Outlook'])"
   ]
  },
  {
   "cell_type": "code",
   "execution_count": 30,
   "metadata": {},
   "outputs": [
    {
     "data": {
      "text/plain": [
       "0.2857142857142857"
      ]
     },
     "execution_count": 30,
     "metadata": {},
     "output_type": "execute_result"
    }
   ],
   "source": [
    "sum(data['Outlook'] == Outlook_category[1]) / len(data['Outlook'])"
   ]
  },
  {
   "cell_type": "code",
   "execution_count": 31,
   "metadata": {},
   "outputs": [
    {
     "data": {
      "text/plain": [
       "0.35714285714285715"
      ]
     },
     "execution_count": 31,
     "metadata": {},
     "output_type": "execute_result"
    }
   ],
   "source": [
    "sum(data['Outlook'] == Outlook_category[2]) / len(data['Outlook'])"
   ]
  },
  {
   "cell_type": "code",
   "execution_count": 32,
   "metadata": {},
   "outputs": [],
   "source": [
    "def meaninfo(i):\n",
    "    val_category_list = data[i].unique()\n",
    "    h = []\n",
    "    p = []\n",
    "    H=0\n",
    "    for j in val_category_list:\n",
    "\n",
    "        yes_rate = get_label_n(i, j, \"Play\", \"yes\") / (get_label_n(i, j, \"Play\", \"yes\") + get_label_n(i, j, \"Play\", \"no\"))\n",
    "        no_rate = get_label_n(i, j, \"Play\", \"no\") / (get_label_n(i, j, \"Play\", \"yes\") + get_label_n(i, j, \"Play\", \"no\"))\n",
    "\n",
    "        if yes_rate == 0:\n",
    "            log2_yes_rate = 0\n",
    "        else:\n",
    "            log2_yes_rate = np.log2(yes_rate) \n",
    "\n",
    "        if no_rate == 0:\n",
    "            log2_no_rate = 0\n",
    "        else:\n",
    "            log2_no_rate = np.log2(no_rate)  \n",
    "\n",
    "        H = yes_rate* log2_yes_rate + no_rate*log2_no_rate\n",
    "        h.append(-H)\n",
    "        p.append(sum(data[i] == j) / len(data[i]))\n",
    "    return np.sum(np.array(h) * np.array(p))"
   ]
  },
  {
   "cell_type": "code",
   "execution_count": 33,
   "metadata": {},
   "outputs": [
    {
     "data": {
      "text/plain": [
       "0.6935361388961918"
      ]
     },
     "execution_count": 33,
     "metadata": {},
     "output_type": "execute_result"
    }
   ],
   "source": [
    "meaninfo(\"Outlook\")"
   ]
  },
  {
   "cell_type": "code",
   "execution_count": 34,
   "metadata": {},
   "outputs": [
    {
     "data": {
      "text/plain": [
       "0.8921589282623617"
      ]
     },
     "execution_count": 34,
     "metadata": {},
     "output_type": "execute_result"
    }
   ],
   "source": [
    "meaninfo(\"Windy\")"
   ]
  },
  {
   "cell_type": "code",
   "execution_count": 35,
   "metadata": {},
   "outputs": [
    {
     "data": {
      "text/plain": [
       "0.9110633930116763"
      ]
     },
     "execution_count": 35,
     "metadata": {},
     "output_type": "execute_result"
    }
   ],
   "source": [
    "meaninfo(\"Temp\")"
   ]
  },
  {
   "cell_type": "code",
   "execution_count": 36,
   "metadata": {},
   "outputs": [
    {
     "data": {
      "text/plain": [
       "0.7884504573082896"
      ]
     },
     "execution_count": 36,
     "metadata": {},
     "output_type": "execute_result"
    }
   ],
   "source": [
    "meaninfo(\"Humidity\")"
   ]
  },
  {
   "cell_type": "code",
   "execution_count": 37,
   "metadata": {},
   "outputs": [
    {
     "data": {
      "text/plain": [
       "0.0"
      ]
     },
     "execution_count": 37,
     "metadata": {},
     "output_type": "execute_result"
    }
   ],
   "source": [
    "meaninfo(\"Play\")"
   ]
  },
  {
   "cell_type": "code",
   "execution_count": 38,
   "metadata": {},
   "outputs": [],
   "source": [
    "p_yes_play = sum(data['Play'] == \"yes\")/len(data)\n",
    "p_no_play = sum(data['Play'] == \"no\")/len(data)"
   ]
  },
  {
   "cell_type": "code",
   "execution_count": 39,
   "metadata": {},
   "outputs": [
    {
     "data": {
      "text/plain": [
       "0.9402859586706311"
      ]
     },
     "execution_count": 39,
     "metadata": {},
     "output_type": "execute_result"
    }
   ],
   "source": [
    "if p_yes_play == 0:\n",
    "    log2_p_yes_play = 0\n",
    "else:\n",
    "    log2_p_yes_play = np.log2(p_yes_play) \n",
    "\n",
    "if p_no_play == 0:\n",
    "    log2_p_no_play = 0\n",
    "else:\n",
    "    log2_p_no_play = np.log2(p_no_play)  \n",
    "H_play = -(p_yes_play * log2_p_yes_play + p_no_play * log2_p_no_play)\n",
    "H_play"
   ]
  },
  {
   "cell_type": "code",
   "execution_count": 40,
   "metadata": {},
   "outputs": [],
   "source": [
    "#함수만들기 (숙제)\n",
    "#split info 함수화 하기 위에 코드 \n",
    "#gain ratio 까지 구현하기!"
   ]
  },
  {
   "cell_type": "code",
   "execution_count": 49,
   "metadata": {},
   "outputs": [
    {
     "data": {
      "text/plain": [
       "Index(['Outlook', 'Temp', 'Humidity', 'Windy', 'Play'], dtype='object')"
      ]
     },
     "execution_count": 49,
     "metadata": {},
     "output_type": "execute_result"
    }
   ],
   "source": [
    "columns = data.columns[1:6]\n",
    "columns"
   ]
  },
  {
   "cell_type": "code",
   "execution_count": 53,
   "metadata": {},
   "outputs": [
    {
     "data": {
      "text/plain": [
       "Index(['id', 'Outlook', 'Temp', 'Humidity', 'Windy', 'Play'], dtype='object')"
      ]
     },
     "execution_count": 53,
     "metadata": {},
     "output_type": "execute_result"
    }
   ],
   "source": [
    "data.columns"
   ]
  },
  {
   "cell_type": "code",
   "execution_count": 62,
   "metadata": {},
   "outputs": [
    {
     "data": {
      "text/plain": [
       "Index(['id', 'Outlook', 'Temp', 'Humidity', 'Windy', 'Play'], dtype='object')"
      ]
     },
     "execution_count": 62,
     "metadata": {},
     "output_type": "execute_result"
    }
   ],
   "source": [
    "pre_columns = data.columns\n",
    "pre_columns "
   ]
  },
  {
   "cell_type": "code",
   "execution_count": null,
   "metadata": {},
   "outputs": [],
   "source": [
    "SI = np.sum()\n"
   ]
  },
  {
   "cell_type": "code",
   "execution_count": null,
   "metadata": {},
   "outputs": [],
   "source": [
    "H_play - meaninfo(\"Outlook\")"
   ]
  },
  {
   "cell_type": "code",
   "execution_count": null,
   "metadata": {},
   "outputs": [],
   "source": [
    "def IG(k,up_H):\n",
    "    IG = up_H - meaninfo(k)\n",
    "    return IG"
   ]
  },
  {
   "cell_type": "code",
   "execution_count": null,
   "metadata": {},
   "outputs": [],
   "source": [
    "IG(\"Outlook\",H_play)"
   ]
  },
  {
   "cell_type": "code",
   "execution_count": null,
   "metadata": {},
   "outputs": [],
   "source": [
    "IG(\"Temp\",H_play)"
   ]
  },
  {
   "cell_type": "code",
   "execution_count": null,
   "metadata": {},
   "outputs": [],
   "source": [
    "IG(\"Humidity\",H_play)"
   ]
  },
  {
   "cell_type": "code",
   "execution_count": null,
   "metadata": {},
   "outputs": [],
   "source": [
    "IG(\"Windy\",H_play)"
   ]
  },
  {
   "cell_type": "code",
   "execution_count": null,
   "metadata": {},
   "outputs": [],
   "source": []
  },
  {
   "cell_type": "code",
   "execution_count": null,
   "metadata": {},
   "outputs": [],
   "source": []
  },
  {
   "cell_type": "markdown",
   "metadata": {},
   "source": [
    "#### list 곱하기"
   ]
  },
  {
   "cell_type": "code",
   "execution_count": null,
   "metadata": {},
   "outputs": [],
   "source": [
    "p = [0.4,0.3,0.3]\n",
    "h = [0.2,0.5,0.6]\n"
   ]
  },
  {
   "cell_type": "code",
   "execution_count": null,
   "metadata": {},
   "outputs": [],
   "source": [
    "p * 2"
   ]
  },
  {
   "cell_type": "code",
   "execution_count": null,
   "metadata": {},
   "outputs": [],
   "source": [
    "np.array(p) * 2"
   ]
  },
  {
   "cell_type": "code",
   "execution_count": null,
   "metadata": {},
   "outputs": [],
   "source": [
    "np.array(h) * np.array(p)"
   ]
  }
 ],
 "metadata": {
  "kernelspec": {
   "display_name": "Python 3",
   "language": "python",
   "name": "python3"
  },
  "language_info": {
   "codemirror_mode": {
    "name": "ipython",
    "version": 3
   },
   "file_extension": ".py",
   "mimetype": "text/x-python",
   "name": "python",
   "nbconvert_exporter": "python",
   "pygments_lexer": "ipython3",
   "version": "3.8.3"
  }
 },
 "nbformat": 4,
 "nbformat_minor": 4
}
